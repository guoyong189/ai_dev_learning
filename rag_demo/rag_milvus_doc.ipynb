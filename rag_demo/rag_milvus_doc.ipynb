{
 "cells": [
  {
   "metadata": {},
   "cell_type": "markdown",
   "source": [
    "# 使用 Milvus 和 DeepSeek 构建 RAG\n",
    "\n",
    "DeepSeek 帮助开发者使用高性能语言模型构建和扩展 AI 应用。它提供高效的推理、灵活的 API 以及先进的专家混合 (MoE) 架构，用于强大的推理和检索任务。\n",
    "\n",
    "在本教程中，我们将展示如何使用 Milvus 和 DeepSeek 构建一个检索增强生成 (RAG) 管道。#%% md\n"
   ],
   "id": "68772544adcca1aa"
  },
  {
   "metadata": {},
   "cell_type": "markdown",
   "source": "## S1 准备环境",
   "id": "1257d8f83bd1635c"
  },
  {
   "metadata": {
    "ExecuteTime": {
     "end_time": "2025-07-01T03:13:33.634101Z",
     "start_time": "2025-07-01T03:13:30.936110Z"
    }
   },
   "cell_type": "code",
   "source": "!pip install pymilvus -i https://pypi.tuna.tsinghua.edu.cn/simple",
   "id": "3f1019967b2c2aeb",
   "outputs": [
    {
     "name": "stdout",
     "output_type": "stream",
     "text": [
      "Looking in indexes: https://pypi.tuna.tsinghua.edu.cn/simple\n",
      "Requirement already satisfied: pymilvus in d:\\projects\\python_projects\\dfa_py\\.venv\\lib\\site-packages (2.5.10)\n",
      "Requirement already satisfied: setuptools>69 in d:\\projects\\python_projects\\dfa_py\\.venv\\lib\\site-packages (from pymilvus) (80.9.0)\n",
      "Requirement already satisfied: grpcio<=1.67.1,>=1.49.1 in d:\\projects\\python_projects\\dfa_py\\.venv\\lib\\site-packages (from pymilvus) (1.67.1)\n",
      "Requirement already satisfied: protobuf>=3.20.0 in d:\\projects\\python_projects\\dfa_py\\.venv\\lib\\site-packages (from pymilvus) (5.29.5)\n",
      "Requirement already satisfied: python-dotenv<2.0.0,>=1.0.1 in d:\\projects\\python_projects\\dfa_py\\.venv\\lib\\site-packages (from pymilvus) (1.1.1)\n",
      "Requirement already satisfied: ujson>=2.0.0 in d:\\projects\\python_projects\\dfa_py\\.venv\\lib\\site-packages (from pymilvus) (5.10.0)\n",
      "Requirement already satisfied: pandas>=1.2.4 in d:\\projects\\python_projects\\dfa_py\\.venv\\lib\\site-packages (from pymilvus) (2.3.0)\n",
      "Requirement already satisfied: numpy>=1.26.0 in d:\\projects\\python_projects\\dfa_py\\.venv\\lib\\site-packages (from pandas>=1.2.4->pymilvus) (2.3.1)\n",
      "Requirement already satisfied: python-dateutil>=2.8.2 in d:\\projects\\python_projects\\dfa_py\\.venv\\lib\\site-packages (from pandas>=1.2.4->pymilvus) (2.9.0.post0)\n",
      "Requirement already satisfied: pytz>=2020.1 in d:\\projects\\python_projects\\dfa_py\\.venv\\lib\\site-packages (from pandas>=1.2.4->pymilvus) (2025.2)\n",
      "Requirement already satisfied: tzdata>=2022.7 in d:\\projects\\python_projects\\dfa_py\\.venv\\lib\\site-packages (from pandas>=1.2.4->pymilvus) (2025.2)\n",
      "Requirement already satisfied: six>=1.5 in d:\\projects\\python_projects\\dfa_py\\.venv\\lib\\site-packages (from python-dateutil>=2.8.2->pandas>=1.2.4->pymilvus) (1.17.0)\n"
     ]
    }
   ],
   "execution_count": 41
  },
  {
   "metadata": {
    "ExecuteTime": {
     "end_time": "2025-07-01T07:25:26.181214Z",
     "start_time": "2025-07-01T07:25:26.175827Z"
    }
   },
   "cell_type": "code",
   "source": [
    "import os\n",
    "from dotenv import load_dotenv\n",
    "\n",
    "# 加载环境变量\n",
    "load_dotenv()\n",
    "# 从环境变量获取 DeepSeek API Key\n",
    "api_key = os.getenv(\"DEEPSEEK_API_KEY\")\n",
    "# 获取 milvus的token\n",
    "milvus_token = os.getenv(\"MILVUS_TOKEN\")\n",
    "\n",
    "print(api_key)\n",
    "print(milvus_token)"
   ],
   "id": "5b9e029563a7e911",
   "outputs": [
    {
     "name": "stdout",
     "output_type": "stream",
     "text": [
      "sk-4aa800df99d44303a1d9e04e2b677f88\n",
      "root:Ggi3teD22025allinai#\n"
     ]
    }
   ],
   "execution_count": 59
  },
  {
   "metadata": {},
   "cell_type": "markdown",
   "source": [
    "## S2 准备数据\n",
    "使用 Milvus 文档 2.4.x 中的 FAQ 页面作为我们 RAG 中的私有知识库，这是一个简单 RAG 管道的良好数据源。\n",
    "\n",
    "下载 zip 文件并将文档解压到 `milvus_docs` 文件夹。\n",
    "```\n",
    "文档链接： https://github.com/milvus-io/milvus-docs/releases/download/v2.4.6-preview/milvus_docs_2.4.x_en.zip\n",
    "\n",
    "下载后解压到 E://python_learning/milvus_docs\n",
    "```\n",
    "\n",
    "我们从 `milvus_docs/en/faq` 文件夹加载所有 markdown 文件。对于每个文档，我们简单地使用 \"# \" 来分割文件中的内容，这样可以大致分离出 markdown 文件中每个主要部分的内容。"
   ],
   "id": "a59063812a868f3e"
  },
  {
   "metadata": {
    "ExecuteTime": {
     "end_time": "2025-07-01T02:22:38.687714Z",
     "start_time": "2025-07-01T02:22:38.679396Z"
    }
   },
   "cell_type": "code",
   "source": [
    "from glob import glob\n",
    "\n",
    "text_lines = []\n",
    "\n",
    "for file_path in glob(\"E://python_learning/milvus_docs/en/faq/*.md\", recursive=True):\n",
    "    with open(file_path, \"r\") as file:\n",
    "        file_text = file.read()\n",
    "\n",
    "    text_lines += file_text.split(\"# \")\n",
    "\n"
   ],
   "id": "9401995b14383d93",
   "outputs": [
    {
     "data": {
      "text/plain": [
       "72"
      ]
     },
     "execution_count": 11,
     "metadata": {},
     "output_type": "execute_result"
    }
   ],
   "execution_count": 11
  },
  {
   "metadata": {},
   "cell_type": "markdown",
   "source": "## S3 准备 LLM 和 Embedding 模型",
   "id": "19e3aa5d46a1ec15"
  },
  {
   "metadata": {
    "ExecuteTime": {
     "end_time": "2025-07-01T02:25:17.947809Z",
     "start_time": "2025-07-01T02:25:16.875993Z"
    }
   },
   "cell_type": "code",
   "source": [
    "from openai import OpenAI\n",
    "\n",
    "deepseek_client = OpenAI(\n",
    "    api_key=api_key,\n",
    "    base_url=\"https://api.deepseek.com/v1\",  # DeepSeek API 的基地址\n",
    ")"
   ],
   "id": "669fdfb4d0720504",
   "outputs": [],
   "execution_count": 12
  },
  {
   "metadata": {
    "ExecuteTime": {
     "end_time": "2025-07-01T02:27:14.978863Z",
     "start_time": "2025-07-01T02:27:13.022462Z"
    }
   },
   "cell_type": "code",
   "source": [
    "from pymilvus import model as milvus_model\n",
    "\n",
    "embedding_model = milvus_model.DefaultEmbeddingFunction()"
   ],
   "id": "f7380c318a0c12ba",
   "outputs": [],
   "execution_count": 14
  },
  {
   "metadata": {},
   "cell_type": "markdown",
   "source": [
    "**测试embedding :**\n",
    "\n",
    "  两句话 比较下向量 值   This is a test  、 That is a test"
   ],
   "id": "274ab1f97f71d1c6"
  },
  {
   "metadata": {
    "ExecuteTime": {
     "end_time": "2025-07-01T02:27:27.226893Z",
     "start_time": "2025-07-01T02:27:27.018691Z"
    }
   },
   "cell_type": "code",
   "source": [
    "test_embedding_1 = embedding_model.encode_queries([\"This is a test\"])[0]\n",
    "embedding_dim = len(test_embedding_1)\n",
    "print(embedding_dim)\n",
    "print(test_embedding_1[:10])"
   ],
   "id": "8e2c1a48fc92b0c",
   "outputs": [
    {
     "name": "stdout",
     "output_type": "stream",
     "text": [
      "768\n",
      "[-0.04836059  0.07163021 -0.01130063 -0.03789341 -0.03320651 -0.01318453\n",
      " -0.03041721 -0.02269495 -0.02317858 -0.00426026]\n"
     ]
    }
   ],
   "execution_count": 15
  },
  {
   "metadata": {
    "ExecuteTime": {
     "end_time": "2025-07-01T02:30:07.962743Z",
     "start_time": "2025-07-01T02:30:07.801439Z"
    }
   },
   "cell_type": "code",
   "source": [
    "test_embedding_2 = embedding_model.encode_queries([\"That is a test\"])[0]\n",
    "print(test_embedding_2[:10])"
   ],
   "id": "23457e933e474b74",
   "outputs": [
    {
     "name": "stdout",
     "output_type": "stream",
     "text": [
      "[-0.02752976  0.0608853   0.00388525 -0.00215193 -0.02774976 -0.0118618\n",
      " -0.04020916 -0.06023417 -0.03813156  0.0100272 ]\n"
     ]
    }
   ],
   "execution_count": 16
  },
  {
   "metadata": {},
   "cell_type": "markdown",
   "source": [
    "## S4 将数据加载到 Milvus\n",
    "\n",
    "关于 `MilvusClient` 的参数：\n",
    "\n",
    "*   将 `uri` 设置为本地文件，例如 `./milvus.db`，是最方便的方法，因为它会自动利用 Milvus Lite 将所有数据存储在此文件中。\n",
    "*   如果您有大规模数据，可以在 Docker 或 Kubernetes 上设置性能更高的 Milvus 服务器。在此设置中，请使用服务器 URI，例如 `http://localhost:19530`，作为您的 `uri`。\n",
    "*   如果您想使用 Zilliz Cloud（Milvus 的完全托管云服务），请调整 `uri` 和 `token`，它们对应 Zilliz Cloud 中的 Public Endpoint 和 Api key。\n",
    "\n",
    "\n",
    " `metric_type`：怎么算相似。\n",
    " `consistency_level`：新数据多久能被读到。"
   ],
   "id": "3e451e2520704768"
  },
  {
   "metadata": {
    "ExecuteTime": {
     "end_time": "2025-07-01T02:48:19.424650Z",
     "start_time": "2025-07-01T02:48:19.203098Z"
    }
   },
   "cell_type": "code",
   "source": "!where python",
   "id": "b98ffdc79dfb075b",
   "outputs": [
    {
     "name": "stdout",
     "output_type": "stream",
     "text": [
      "D:\\projects\\python_projects\\dfa_py\\.venv\\Scripts\\python.exe\n",
      "C:\\Users\\HP\\AppData\\Local\\Programs\\Python\\Python313\\python.exe\n",
      "C:\\Users\\HP\\AppData\\Local\\Microsoft\\WindowsApps\\python.exe\n"
     ]
    }
   ],
   "execution_count": 27
  },
  {
   "metadata": {
    "ExecuteTime": {
     "end_time": "2025-07-01T07:08:21.988436Z",
     "start_time": "2025-07-01T07:08:20.009221Z"
    }
   },
   "cell_type": "code",
   "source": [
    "from pymilvus import MilvusClient\n",
    "\n",
    "milvus_client = MilvusClient(uri=\"http://c-6314c3df7e880376.milvus.aliyuncs.com:19530\",\n",
    "                             token=milvus_token,\n",
    "                             db_name=\"rag_demo01\")\n",
    "\n",
    "collection_name = \"yogi_rag_collection\"\n",
    "\n",
    "# 检查 collection 是否已存在，如果存在则删除它\n",
    "if milvus_client.has_collection(collection_name):\n",
    "    milvus_client.drop_collection(collection_name)\n",
    "\n",
    "# 如果我们不指定任何字段信息，Milvus 将自动创建一个默认的 `id` 字段作为主键，以及一个 `vector` 字段来存储向量数据。一个保留的 JSON 字段用于存储非 schema 定义的字段及其值。\n",
    "milvus_client.create_collection(\n",
    "    collection_name=collection_name,\n",
    "    dimension=embedding_dim,\n",
    "    metric_type=\"IP\",  # 距离度量类型(定义如何计算向量之间的相似程度):\n",
    "    # 例如：`IP` (内积) - 值越大通常越相似；`L2` (欧氏距离) - 值越小越相似；`COSINE` (余弦相似度) - 通常转换为距离，值越小越相似。\n",
    "    # 选择依据：根据你的嵌入模型的特性和期望的相似性定义来选择。\n",
    "    consistency_level=\"Strong\",  # 一致性级别(定义数据写入后，读取操作能多快看到这些新数据。)\n",
    "    # 例如：\n",
    "    #     `Strong` (强一致性): 总是读到最新数据，可能稍慢。\n",
    "    #     `Bounded` (有界过期): 可能读到几秒内旧数据，性能较好 (默认)。\n",
    "    #     `Session` (会话一致性): 自己写入的自己能立刻读到。\n",
    "    #     `Eventually` (最终一致性): 最终会读到新数据，但没时间保证，性能最好。\n",
    "    #        选择依据：在数据实时性要求和系统性能之间做权衡。https://milvus.io/docs/consistency.md#Consistency-Level。\n",
    ")"
   ],
   "id": "3b1cb49c3efeaba2",
   "outputs": [],
   "execution_count": 43
  },
  {
   "metadata": {
    "ExecuteTime": {
     "end_time": "2025-07-01T07:10:31.051431Z",
     "start_time": "2025-07-01T07:10:22.407804Z"
    }
   },
   "cell_type": "code",
   "source": [
    "# 插入数据\n",
    "from tqdm import tqdm\n",
    "\n",
    "data = []\n",
    "\n",
    "doc_embeddings = embedding_model.encode_documents(text_lines)\n",
    "\n",
    "for i, line in enumerate(tqdm(text_lines, desc=\"Creating embeddings\")):\n",
    "    data.append({\"id\": i, \"vector\": doc_embeddings[i], \"text\": line})\n",
    "\n",
    "milvus_client.insert(collection_name=collection_name, data=data)"
   ],
   "id": "3b4b127008def6bc",
   "outputs": [
    {
     "name": "stderr",
     "output_type": "stream",
     "text": [
      "Creating embeddings: 100%|██████████| 72/72 [00:00<00:00, 52419.70it/s]\n"
     ]
    },
    {
     "data": {
      "text/plain": [
       "{'insert_count': 72, 'ids': [0, 1, 2, 3, 4, 5, 6, 7, 8, 9, 10, 11, 12, 13, 14, 15, 16, 17, 18, 19, 20, 21, 22, 23, 24, 25, 26, 27, 28, 29, 30, 31, 32, 33, 34, 35, 36, 37, 38, 39, 40, 41, 42, 43, 44, 45, 46, 47, 48, 49, 50, 51, 52, 53, 54, 55, 56, 57, 58, 59, 60, 61, 62, 63, 64, 65, 66, 67, 68, 69, 70, 71], 'cost': 0}"
      ]
     },
     "execution_count": 44,
     "metadata": {},
     "output_type": "execute_result"
    }
   ],
   "execution_count": 44
  },
  {
   "metadata": {},
   "cell_type": "markdown",
   "source": "## S5 构建 RAG",
   "id": "9fc4f172547d71be"
  },
  {
   "metadata": {
    "ExecuteTime": {
     "end_time": "2025-07-01T07:23:28.860132Z",
     "start_time": "2025-07-01T07:23:28.367728Z"
    }
   },
   "cell_type": "code",
   "source": [
    "# 检索\n",
    "question = \"存在milvus中的数据是多少维的?\"\n",
    "\n",
    "search_res = milvus_client.search(\n",
    "    collection_name=collection_name,\n",
    "    data=embedding_model.encode_queries(\n",
    "        [question]\n",
    "    ),  # 将问题转换为嵌入向量\n",
    "    limit=3,  # 返回前3个结果\n",
    "    search_params={\"metric_type\": \"IP\", \"params\": {}},  # 内积距离\n",
    "    output_fields=[\"text\"],  # 返回 text 字段\n",
    ")"
   ],
   "id": "31c05098072027e8",
   "outputs": [],
   "execution_count": 55
  },
  {
   "metadata": {
    "ExecuteTime": {
     "end_time": "2025-07-01T07:15:31.066206Z",
     "start_time": "2025-07-01T07:15:31.061138Z"
    }
   },
   "cell_type": "code",
   "source": [
    "# 输出检索结果\n",
    "import json\n",
    "\n",
    "retrieved_lines_with_distances = [\n",
    "    (res[\"entity\"][\"text\"], res[\"distance\"]) for res in search_res[0]\n",
    "]\n",
    "print(json.dumps(retrieved_lines_with_distances, indent=4))"
   ],
   "id": "ce1c3b16df767045",
   "outputs": [
    {
     "name": "stdout",
     "output_type": "stream",
     "text": [
      "[\n",
      "    [\n",
      "        \" Where does Milvus store data?\\n\\nMilvus deals with two types of data, inserted data and metadata. \\n\\nInserted data, including vector data, scalar data, and collection-specific schema, are stored in persistent storage as incremental log. Milvus supports multiple object storage backends, including [MinIO](https://min.io/), [AWS S3](https://aws.amazon.com/s3/?nc1=h_ls), [Google Cloud Storage](https://cloud.google.com/storage?hl=en#object-storage-for-companies-of-all-sizes) (GCS), [Azure Blob Storage](https://azure.microsoft.com/en-us/products/storage/blobs), [Alibaba Cloud OSS](https://www.alibabacloud.com/product/object-storage-service), and [Tencent Cloud Object Storage](https://www.tencentcloud.com/products/cos) (COS).\\n\\nMetadata are generated within Milvus. Each Milvus module has its own metadata that are stored in etcd.\\n\\n###\",\n",
      "        0.65726637840271\n",
      "    ],\n",
      "    [\n",
      "        \"How does Milvus flush data?\\n\\nMilvus returns success when inserted data are loaded to the message queue. However, the data are not yet flushed to the disk. Then Milvus' data node writes the data in the message queue to persistent storage as incremental logs. If `flush()` is called, the data node is forced to write all data in the message queue to persistent storage immediately.\\n\\n###\",\n",
      "        0.6312144994735718\n",
      "    ],\n",
      "    [\n",
      "        \"How does Milvus handle vector data types and precision?\\n\\nMilvus supports Binary, Float32, Float16, and BFloat16 vector types.\\n\\n- Binary vectors: Store binary data as sequences of 0s and 1s, used in image processing and information retrieval.\\n- Float32 vectors: Default storage with a precision of about 7 decimal digits. Even Float64 values are stored with Float32 precision, leading to potential precision loss upon retrieval.\\n- Float16 and BFloat16 vectors: Offer reduced precision and memory usage. Float16 is suitable for applications with limited bandwidth and storage, while BFloat16 balances range and efficiency, commonly used in deep learning to reduce computational requirements without significantly impacting accuracy.\\n\\n###\",\n",
      "        0.6115782856941223\n",
      "    ]\n",
      "]\n"
     ]
    }
   ],
   "execution_count": 47
  },
  {
   "metadata": {
    "ExecuteTime": {
     "end_time": "2025-07-01T07:23:33.037667Z",
     "start_time": "2025-07-01T07:23:33.032835Z"
    }
   },
   "cell_type": "code",
   "source": [
    "# 使用LLM获取RAG响应\n",
    "print('question : ' + question)\n",
    "\n",
    "context = \"\\n\".join(\n",
    "    [line_with_distance[0] for line_with_distance in retrieved_lines_with_distances]\n",
    ")\n",
    "print('检索内容转换为 字符串格式 : ' + context)\n",
    "\n",
    "SYSTEM_PROMPT = \"\"\"\n",
    "Human: 你是一个 AI 助手。你能够从提供的上下文段落片段中找到问题的答案。\n",
    "\"\"\"\n",
    "USER_PROMPT = f\"\"\"\n",
    "请使用以下用 <context> 标签括起来的信息片段来回答用 <question> 标签括起来的问题。最后追加原始回答的中文翻译，并用 <translated>和</translated> 标签标注。\n",
    "<context>\n",
    "{context}\n",
    "</context>\n",
    "<question>\n",
    "{question}\n",
    "</question>\n",
    "<translated>\n",
    "</translated>\n",
    "\"\"\"\n",
    "\n",
    "print('prompt内容 : ' + USER_PROMPT)"
   ],
   "id": "df1d7ffaf562e5c9",
   "outputs": [
    {
     "name": "stdout",
     "output_type": "stream",
     "text": [
      "question : 存在milvus中的数据是多少维的?\n",
      "检索内容转换为 字符串格式 :  Where does Milvus store data?\n",
      "\n",
      "Milvus deals with two types of data, inserted data and metadata. \n",
      "\n",
      "Inserted data, including vector data, scalar data, and collection-specific schema, are stored in persistent storage as incremental log. Milvus supports multiple object storage backends, including [MinIO](https://min.io/), [AWS S3](https://aws.amazon.com/s3/?nc1=h_ls), [Google Cloud Storage](https://cloud.google.com/storage?hl=en#object-storage-for-companies-of-all-sizes) (GCS), [Azure Blob Storage](https://azure.microsoft.com/en-us/products/storage/blobs), [Alibaba Cloud OSS](https://www.alibabacloud.com/product/object-storage-service), and [Tencent Cloud Object Storage](https://www.tencentcloud.com/products/cos) (COS).\n",
      "\n",
      "Metadata are generated within Milvus. Each Milvus module has its own metadata that are stored in etcd.\n",
      "\n",
      "###\n",
      "How does Milvus flush data?\n",
      "\n",
      "Milvus returns success when inserted data are loaded to the message queue. However, the data are not yet flushed to the disk. Then Milvus' data node writes the data in the message queue to persistent storage as incremental logs. If `flush()` is called, the data node is forced to write all data in the message queue to persistent storage immediately.\n",
      "\n",
      "###\n",
      "How does Milvus handle vector data types and precision?\n",
      "\n",
      "Milvus supports Binary, Float32, Float16, and BFloat16 vector types.\n",
      "\n",
      "- Binary vectors: Store binary data as sequences of 0s and 1s, used in image processing and information retrieval.\n",
      "- Float32 vectors: Default storage with a precision of about 7 decimal digits. Even Float64 values are stored with Float32 precision, leading to potential precision loss upon retrieval.\n",
      "- Float16 and BFloat16 vectors: Offer reduced precision and memory usage. Float16 is suitable for applications with limited bandwidth and storage, while BFloat16 balances range and efficiency, commonly used in deep learning to reduce computational requirements without significantly impacting accuracy.\n",
      "\n",
      "###\n",
      "prompt内容 : \n",
      "请使用以下用 <context> 标签括起来的信息片段来回答用 <question> 标签括起来的问题。最后追加原始回答的中文翻译，并用 <translated>和</translated> 标签标注。\n",
      "<context>\n",
      " Where does Milvus store data?\n",
      "\n",
      "Milvus deals with two types of data, inserted data and metadata. \n",
      "\n",
      "Inserted data, including vector data, scalar data, and collection-specific schema, are stored in persistent storage as incremental log. Milvus supports multiple object storage backends, including [MinIO](https://min.io/), [AWS S3](https://aws.amazon.com/s3/?nc1=h_ls), [Google Cloud Storage](https://cloud.google.com/storage?hl=en#object-storage-for-companies-of-all-sizes) (GCS), [Azure Blob Storage](https://azure.microsoft.com/en-us/products/storage/blobs), [Alibaba Cloud OSS](https://www.alibabacloud.com/product/object-storage-service), and [Tencent Cloud Object Storage](https://www.tencentcloud.com/products/cos) (COS).\n",
      "\n",
      "Metadata are generated within Milvus. Each Milvus module has its own metadata that are stored in etcd.\n",
      "\n",
      "###\n",
      "How does Milvus flush data?\n",
      "\n",
      "Milvus returns success when inserted data are loaded to the message queue. However, the data are not yet flushed to the disk. Then Milvus' data node writes the data in the message queue to persistent storage as incremental logs. If `flush()` is called, the data node is forced to write all data in the message queue to persistent storage immediately.\n",
      "\n",
      "###\n",
      "How does Milvus handle vector data types and precision?\n",
      "\n",
      "Milvus supports Binary, Float32, Float16, and BFloat16 vector types.\n",
      "\n",
      "- Binary vectors: Store binary data as sequences of 0s and 1s, used in image processing and information retrieval.\n",
      "- Float32 vectors: Default storage with a precision of about 7 decimal digits. Even Float64 values are stored with Float32 precision, leading to potential precision loss upon retrieval.\n",
      "- Float16 and BFloat16 vectors: Offer reduced precision and memory usage. Float16 is suitable for applications with limited bandwidth and storage, while BFloat16 balances range and efficiency, commonly used in deep learning to reduce computational requirements without significantly impacting accuracy.\n",
      "\n",
      "###\n",
      "</context>\n",
      "<question>\n",
      "存在milvus中的数据是多少维的?\n",
      "</question>\n",
      "<translated>\n",
      "</translated>\n",
      "\n"
     ]
    }
   ],
   "execution_count": 56
  },
  {
   "metadata": {
    "ExecuteTime": {
     "end_time": "2025-07-01T07:24:06.725404Z",
     "start_time": "2025-07-01T07:23:56.173874Z"
    }
   },
   "cell_type": "code",
   "source": [
    "# 使用 DeepSeek 提供的 `deepseek-chat` 模型根据提示生成响应。\n",
    "response = deepseek_client.chat.completions.create(\n",
    "    model=\"deepseek-chat\",\n",
    "    messages=[\n",
    "        {\"role\": \"system\", \"content\": SYSTEM_PROMPT},\n",
    "        {\"role\": \"user\", \"content\": USER_PROMPT},\n",
    "    ],\n",
    ")\n",
    "print(response.choices[0].message.content)"
   ],
   "id": "b0e1614241c71529",
   "outputs": [
    {
     "name": "stdout",
     "output_type": "stream",
     "text": [
      "根据提供的上下文信息，Milvus支持的向量数据类型包括Binary、Float32、Float16和BFloat16，但上下文中没有明确提到存储的向量具体是多少维的。向量的维度通常取决于用户插入数据时的定义，而不是由Milvus本身固定限制。\n",
      "\n",
      "<translated>\n",
      "According to the provided context, Milvus supports vector data types including Binary, Float32, Float16, and BFloat16, but the context does not explicitly mention the specific dimensionality of vectors stored. The dimensionality of vectors typically depends on user definitions when inserting data, rather than being fixed by Milvus itself.\n",
      "</translated>\n"
     ]
    }
   ],
   "execution_count": 57
  }
 ],
 "metadata": {
  "kernelspec": {
   "display_name": "Python 3",
   "language": "python",
   "name": "python3"
  },
  "language_info": {
   "codemirror_mode": {
    "name": "ipython",
    "version": 2
   },
   "file_extension": ".py",
   "mimetype": "text/x-python",
   "name": "python",
   "nbconvert_exporter": "python",
   "pygments_lexer": "ipython2",
   "version": "2.7.6"
  }
 },
 "nbformat": 4,
 "nbformat_minor": 5
}
